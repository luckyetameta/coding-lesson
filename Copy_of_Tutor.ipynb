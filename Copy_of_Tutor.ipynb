{
  "nbformat": 4,
  "nbformat_minor": 0,
  "metadata": {
    "colab": {
      "provenance": [],
      "collapsed_sections": [],
      "authorship_tag": "ABX9TyNDkIrEA57l/diyka4YUmBZ",
      "include_colab_link": true
    },
    "kernelspec": {
      "name": "python3",
      "display_name": "Python 3"
    },
    "language_info": {
      "name": "python"
    }
  },
  "cells": [
    {
      "cell_type": "markdown",
      "metadata": {
        "id": "view-in-github",
        "colab_type": "text"
      },
      "source": [
        "<a href=\"https://colab.research.google.com/github/luckyetameta/coding-lesson/blob/main/Copy_of_Tutor.ipynb\" target=\"_parent\"><img src=\"https://colab.research.google.com/assets/colab-badge.svg\" alt=\"Open In Colab\"/></a>"
      ]
    },
    {
      "cell_type": "markdown",
      "source": [
        "**Bay = 0-10 Youth = 11- 35  Old= 35 and above**\n"
      ],
      "metadata": {
        "id": "Ap6RS5hjedVJ"
      }
    },
    {
      "cell_type": "code",
      "source": [
        "x=int(input(\"Age\"))\n",
        "if x >= 0 and x <= 10:\n",
        "  print(\"I am a baby\")\n",
        "elif x > 10 and x <= 35:\n",
        "    print(\"I am a youth\")\n",
        "elif x > 35:\n",
        "      print(\"I am old\")\n",
        "else:\n",
        "        print(\"I don't understand\")"
      ],
      "metadata": {
        "colab": {
          "base_uri": "https://localhost:8080/"
        },
        "id": "HUBlzVmmfIMY",
        "outputId": "4b8a5665-c724-414b-d472-518338778c6b"
      },
      "execution_count": null,
      "outputs": [
        {
          "output_type": "stream",
          "name": "stdout",
          "text": [
            "Age8\n",
            "I am a baby\n"
          ]
        }
      ]
    },
    {
      "cell_type": "code",
      "source": [
        "x=int(input(\"Age\"))\n",
        "if x==0:\n",
        "  print(\"Still in the womb\")\n",
        "if x >= 1 and x <= 10:\n",
        "  print(\"I am a baby\")\n",
        "elif x > 10 and x <= 35:\n",
        "    print(\"I am a youth\")\n",
        "elif x > 35:\n",
        "      print(\"I am old\")\n",
        "else:\n",
        "        print(\"I don't understand\")"
      ],
      "metadata": {
        "colab": {
          "base_uri": "https://localhost:8080/"
        },
        "id": "k3Tj4l3KhqLa",
        "outputId": "0bc911b4-29a7-431e-a150-737e53754a4b"
      },
      "execution_count": null,
      "outputs": [
        {
          "output_type": "stream",
          "name": "stdout",
          "text": [
            "Age60\n",
            "I am old\n"
          ]
        }
      ]
    },
    {
      "cell_type": "code",
      "source": [
        "secret_number = 9\n",
        "guess_limit = 3\n",
        "guess_number = 0\n",
        "while guess_number < guess_limit:\n",
        "\n",
        "  guess_number += 1\n",
        "  guess = int(input('Passcode: '))\n",
        "\n",
        "  if guess ==secret_number:\n",
        "      print('You won')\n",
        "      break \n",
        "  if guess_number != guess_limit:\n",
        "    print('Try again')\n",
        "\n",
        "\n",
        "else:\n",
        "    print('You lost')\n"
      ],
      "metadata": {
        "colab": {
          "base_uri": "https://localhost:8080/"
        },
        "id": "sazqvmzPmAgP",
        "outputId": "81b6abff-3c91-4620-fa7b-6f49139d7b6c"
      },
      "execution_count": null,
      "outputs": [
        {
          "output_type": "stream",
          "name": "stdout",
          "text": [
            "Passcode: 9\n",
            "You won\n"
          ]
        }
      ]
    },
    {
      "cell_type": "code",
      "source": [],
      "metadata": {
        "id": "ICsOHQSrtvB7"
      },
      "execution_count": null,
      "outputs": []
    }
  ]
}